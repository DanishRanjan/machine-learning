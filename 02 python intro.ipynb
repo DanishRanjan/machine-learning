{
 "cells": [
  {
   "cell_type": "code",
   "execution_count": 1,
   "metadata": {},
   "outputs": [
    {
     "name": "stdout",
     "output_type": "stream",
     "text": [
      "32\n"
     ]
    }
   ],
   "source": [
    "myage = 32\n",
    "print(myage)"
   ]
  },
  {
   "cell_type": "code",
   "execution_count": 2,
   "metadata": {},
   "outputs": [],
   "source": [
    "import pandas as pd\n",
    "data = pd.read_csv('lsd_math_score_data.csv')"
   ]
  },
  {
   "cell_type": "code",
   "execution_count": 3,
   "metadata": {},
   "outputs": [],
   "source": [
    "import pandas as pd\n",
    "data = pd.read_csv('lsd_math_score_data.csv')"
   ]
  },
  {
   "cell_type": "code",
   "execution_count": 4,
   "metadata": {},
   "outputs": [
    {
     "name": "stdout",
     "output_type": "stream",
     "text": [
      "   Time_Delay_in_Minutes  LSD_ppm  Avg_Math_Test_Score\n",
      "0                      5     1.17                78.93\n",
      "1                     15     2.97                58.20\n",
      "2                     30     3.26                67.47\n",
      "3                     60     4.69                37.47\n",
      "4                    120     5.83                45.65\n",
      "5                    240     6.00                32.92\n",
      "6                    480     6.41                29.97\n"
     ]
    }
   ],
   "source": [
    "print(data)"
   ]
  },
  {
   "cell_type": "code",
   "execution_count": 5,
   "metadata": {},
   "outputs": [
    {
     "data": {
      "text/plain": [
       "pandas.core.frame.DataFrame"
      ]
     },
     "execution_count": 5,
     "metadata": {},
     "output_type": "execute_result"
    }
   ],
   "source": [
    "type(data)"
   ]
  },
  {
   "cell_type": "code",
   "execution_count": 6,
   "metadata": {},
   "outputs": [],
   "source": [
    "onlyMathScore = data['Avg_Math_Test_Score']"
   ]
  },
  {
   "cell_type": "code",
   "execution_count": 7,
   "metadata": {},
   "outputs": [
    {
     "name": "stdout",
     "output_type": "stream",
     "text": [
      "0    78.93\n",
      "1    58.20\n",
      "2    67.47\n",
      "3    37.47\n",
      "4    45.65\n",
      "5    32.92\n",
      "6    29.97\n",
      "Name: Avg_Math_Test_Score, dtype: float64\n"
     ]
    }
   ],
   "source": [
    "print(onlyMathScore)"
   ]
  },
  {
   "cell_type": "code",
   "execution_count": 8,
   "metadata": {},
   "outputs": [],
   "source": [
    "data['Test_Subject'] = 'Jennifer Lopez'"
   ]
  },
  {
   "cell_type": "code",
   "execution_count": 9,
   "metadata": {},
   "outputs": [
    {
     "name": "stdout",
     "output_type": "stream",
     "text": [
      "   Time_Delay_in_Minutes  LSD_ppm  Avg_Math_Test_Score    Test_Subject\n",
      "0                      5     1.17                78.93  Jennifer Lopez\n",
      "1                     15     2.97                58.20  Jennifer Lopez\n",
      "2                     30     3.26                67.47  Jennifer Lopez\n",
      "3                     60     4.69                37.47  Jennifer Lopez\n",
      "4                    120     5.83                45.65  Jennifer Lopez\n",
      "5                    240     6.00                32.92  Jennifer Lopez\n",
      "6                    480     6.41                29.97  Jennifer Lopez\n"
     ]
    }
   ],
   "source": [
    "print(data)"
   ]
  },
  {
   "cell_type": "code",
   "execution_count": 10,
   "metadata": {},
   "outputs": [],
   "source": [
    "data['High_Score'] = 100"
   ]
  },
  {
   "cell_type": "code",
   "execution_count": 11,
   "metadata": {},
   "outputs": [
    {
     "name": "stdout",
     "output_type": "stream",
     "text": [
      "   Time_Delay_in_Minutes  LSD_ppm  Avg_Math_Test_Score    Test_Subject  \\\n",
      "0                      5     1.17                78.93  Jennifer Lopez   \n",
      "1                     15     2.97                58.20  Jennifer Lopez   \n",
      "2                     30     3.26                67.47  Jennifer Lopez   \n",
      "3                     60     4.69                37.47  Jennifer Lopez   \n",
      "4                    120     5.83                45.65  Jennifer Lopez   \n",
      "5                    240     6.00                32.92  Jennifer Lopez   \n",
      "6                    480     6.41                29.97  Jennifer Lopez   \n",
      "\n",
      "   High_Score  \n",
      "0         100  \n",
      "1         100  \n",
      "2         100  \n",
      "3         100  \n",
      "4         100  \n",
      "5         100  \n",
      "6         100  \n"
     ]
    }
   ],
   "source": [
    "print(data)"
   ]
  },
  {
   "cell_type": "code",
   "execution_count": 12,
   "metadata": {},
   "outputs": [
    {
     "name": "stdout",
     "output_type": "stream",
     "text": [
      "High_Score\n"
     ]
    }
   ],
   "source": [
    "data['High_Score'] = data['High_Score'] + data['Avg_Math_Test_Score']\n",
    "print('High_Score')"
   ]
  },
  {
   "cell_type": "code",
   "execution_count": 13,
   "metadata": {},
   "outputs": [
    {
     "name": "stdout",
     "output_type": "stream",
     "text": [
      "   Time_Delay_in_Minutes  LSD_ppm  Avg_Math_Test_Score    Test_Subject  \\\n",
      "0                      5     1.17                78.93  Jennifer Lopez   \n",
      "1                     15     2.97                58.20  Jennifer Lopez   \n",
      "2                     30     3.26                67.47  Jennifer Lopez   \n",
      "3                     60     4.69                37.47  Jennifer Lopez   \n",
      "4                    120     5.83                45.65  Jennifer Lopez   \n",
      "5                    240     6.00                32.92  Jennifer Lopez   \n",
      "6                    480     6.41                29.97  Jennifer Lopez   \n",
      "\n",
      "   High_Score  \n",
      "0      178.93  \n",
      "1      158.20  \n",
      "2      167.47  \n",
      "3      137.47  \n",
      "4      145.65  \n",
      "5      132.92  \n",
      "6      129.97  \n"
     ]
    }
   ],
   "source": [
    "print(data)"
   ]
  },
  {
   "cell_type": "code",
   "execution_count": 14,
   "metadata": {},
   "outputs": [],
   "source": [
    "data['High_Score'] += data['Avg_Math_Test_Score']"
   ]
  },
  {
   "cell_type": "code",
   "execution_count": 15,
   "metadata": {},
   "outputs": [
    {
     "name": "stdout",
     "output_type": "stream",
     "text": [
      "   Time_Delay_in_Minutes  LSD_ppm  Avg_Math_Test_Score    Test_Subject  \\\n",
      "0                      5     1.17                78.93  Jennifer Lopez   \n",
      "1                     15     2.97                58.20  Jennifer Lopez   \n",
      "2                     30     3.26                67.47  Jennifer Lopez   \n",
      "3                     60     4.69                37.47  Jennifer Lopez   \n",
      "4                    120     5.83                45.65  Jennifer Lopez   \n",
      "5                    240     6.00                32.92  Jennifer Lopez   \n",
      "6                    480     6.41                29.97  Jennifer Lopez   \n",
      "\n",
      "   High_Score  \n",
      "0      257.86  \n",
      "1      216.40  \n",
      "2      234.94  \n",
      "3      174.94  \n",
      "4      191.30  \n",
      "5      165.84  \n",
      "6      159.94  \n"
     ]
    }
   ],
   "source": [
    "print(data)"
   ]
  },
  {
   "cell_type": "code",
   "execution_count": 16,
   "metadata": {},
   "outputs": [],
   "source": [
    "data['High_Score'] = data['High_Score'] - data['Avg_Math_Test_Score']"
   ]
  },
  {
   "cell_type": "code",
   "execution_count": 17,
   "metadata": {},
   "outputs": [
    {
     "name": "stdout",
     "output_type": "stream",
     "text": [
      "   Time_Delay_in_Minutes  LSD_ppm  Avg_Math_Test_Score    Test_Subject  \\\n",
      "0                      5     1.17                78.93  Jennifer Lopez   \n",
      "1                     15     2.97                58.20  Jennifer Lopez   \n",
      "2                     30     3.26                67.47  Jennifer Lopez   \n",
      "3                     60     4.69                37.47  Jennifer Lopez   \n",
      "4                    120     5.83                45.65  Jennifer Lopez   \n",
      "5                    240     6.00                32.92  Jennifer Lopez   \n",
      "6                    480     6.41                29.97  Jennifer Lopez   \n",
      "\n",
      "   High_Score  \n",
      "0      178.93  \n",
      "1      158.20  \n",
      "2      167.47  \n",
      "3      137.47  \n",
      "4      145.65  \n",
      "5      132.92  \n",
      "6      129.97  \n"
     ]
    }
   ],
   "source": [
    "print(data)"
   ]
  },
  {
   "cell_type": "code",
   "execution_count": 18,
   "metadata": {},
   "outputs": [],
   "source": [
    "data['High_Score'] = data['High_Score'] ** 2"
   ]
  },
  {
   "cell_type": "code",
   "execution_count": 19,
   "metadata": {},
   "outputs": [
    {
     "name": "stdout",
     "output_type": "stream",
     "text": [
      "   Time_Delay_in_Minutes  LSD_ppm  Avg_Math_Test_Score    Test_Subject  \\\n",
      "0                      5     1.17                78.93  Jennifer Lopez   \n",
      "1                     15     2.97                58.20  Jennifer Lopez   \n",
      "2                     30     3.26                67.47  Jennifer Lopez   \n",
      "3                     60     4.69                37.47  Jennifer Lopez   \n",
      "4                    120     5.83                45.65  Jennifer Lopez   \n",
      "5                    240     6.00                32.92  Jennifer Lopez   \n",
      "6                    480     6.41                29.97  Jennifer Lopez   \n",
      "\n",
      "   High_Score  \n",
      "0  32015.9449  \n",
      "1  25027.2400  \n",
      "2  28046.2009  \n",
      "3  18898.0009  \n",
      "4  21213.9225  \n",
      "5  17667.7264  \n",
      "6  16892.2009  \n"
     ]
    }
   ],
   "source": [
    "print(data)"
   ]
  },
  {
   "cell_type": "code",
   "execution_count": 20,
   "metadata": {},
   "outputs": [
    {
     "data": {
      "text/plain": [
       "pandas.core.series.Series"
      ]
     },
     "execution_count": 20,
     "metadata": {},
     "output_type": "execute_result"
    }
   ],
   "source": [
    "type(onlyMathScore)"
   ]
  },
  {
   "cell_type": "code",
   "execution_count": 21,
   "metadata": {},
   "outputs": [],
   "source": [
    "cleanData = data[['LSD_ppm', 'Avg_Math_Test_Score']]"
   ]
  },
  {
   "cell_type": "code",
   "execution_count": 22,
   "metadata": {},
   "outputs": [
    {
     "name": "stdout",
     "output_type": "stream",
     "text": [
      "   LSD_ppm  Avg_Math_Test_Score\n",
      "0     1.17                78.93\n",
      "1     2.97                58.20\n",
      "2     3.26                67.47\n",
      "3     4.69                37.47\n",
      "4     5.83                45.65\n",
      "5     6.00                32.92\n",
      "6     6.41                29.97\n"
     ]
    }
   ],
   "source": [
    "print(cleanData)"
   ]
  },
  {
   "cell_type": "code",
   "execution_count": 23,
   "metadata": {},
   "outputs": [
    {
     "data": {
      "text/plain": [
       "pandas.core.frame.DataFrame"
      ]
     },
     "execution_count": 23,
     "metadata": {},
     "output_type": "execute_result"
    }
   ],
   "source": [
    "type(cleanData)"
   ]
  },
  {
   "cell_type": "code",
   "execution_count": 24,
   "metadata": {},
   "outputs": [],
   "source": [
    "y = data[['Avg_Math_Test_Score']]"
   ]
  },
  {
   "cell_type": "code",
   "execution_count": 25,
   "metadata": {},
   "outputs": [
    {
     "data": {
      "text/plain": [
       "pandas.core.frame.DataFrame"
      ]
     },
     "execution_count": 25,
     "metadata": {},
     "output_type": "execute_result"
    }
   ],
   "source": [
    "type(y)"
   ]
  },
  {
   "cell_type": "code",
   "execution_count": 26,
   "metadata": {},
   "outputs": [],
   "source": [
    "x = data[['LSD_ppm']] "
   ]
  },
  {
   "cell_type": "code",
   "execution_count": 27,
   "metadata": {},
   "outputs": [
    {
     "name": "stdout",
     "output_type": "stream",
     "text": [
      "   LSD_ppm\n",
      "0     1.17\n",
      "1     2.97\n",
      "2     3.26\n",
      "3     4.69\n",
      "4     5.83\n",
      "5     6.00\n",
      "6     6.41\n"
     ]
    }
   ],
   "source": [
    "print(x)"
   ]
  },
  {
   "cell_type": "code",
   "execution_count": 28,
   "metadata": {},
   "outputs": [
    {
     "data": {
      "text/plain": [
       "pandas.core.frame.DataFrame"
      ]
     },
     "execution_count": 28,
     "metadata": {},
     "output_type": "execute_result"
    }
   ],
   "source": [
    "type(x)"
   ]
  },
  {
   "cell_type": "code",
   "execution_count": 29,
   "metadata": {},
   "outputs": [],
   "source": [
    "del data['Test_Subject']"
   ]
  },
  {
   "cell_type": "code",
   "execution_count": 30,
   "metadata": {},
   "outputs": [
    {
     "name": "stdout",
     "output_type": "stream",
     "text": [
      "   Time_Delay_in_Minutes  LSD_ppm  Avg_Math_Test_Score  High_Score\n",
      "0                      5     1.17                78.93  32015.9449\n",
      "1                     15     2.97                58.20  25027.2400\n",
      "2                     30     3.26                67.47  28046.2009\n",
      "3                     60     4.69                37.47  18898.0009\n",
      "4                    120     5.83                45.65  21213.9225\n",
      "5                    240     6.00                32.92  17667.7264\n",
      "6                    480     6.41                29.97  16892.2009\n"
     ]
    }
   ],
   "source": [
    "print(data)"
   ]
  },
  {
   "cell_type": "code",
   "execution_count": 31,
   "metadata": {},
   "outputs": [],
   "source": [
    "del data['High_Score']"
   ]
  },
  {
   "cell_type": "code",
   "execution_count": 32,
   "metadata": {},
   "outputs": [
    {
     "name": "stdout",
     "output_type": "stream",
     "text": [
      "   Time_Delay_in_Minutes  LSD_ppm  Avg_Math_Test_Score\n",
      "0                      5     1.17                78.93\n",
      "1                     15     2.97                58.20\n",
      "2                     30     3.26                67.47\n",
      "3                     60     4.69                37.47\n",
      "4                    120     5.83                45.65\n",
      "5                    240     6.00                32.92\n",
      "6                    480     6.41                29.97\n"
     ]
    }
   ],
   "source": [
    "print(data)"
   ]
  },
  {
   "cell_type": "code",
   "execution_count": 33,
   "metadata": {},
   "outputs": [],
   "source": [
    "import life"
   ]
  },
  {
   "cell_type": "code",
   "execution_count": 34,
   "metadata": {},
   "outputs": [
    {
     "name": "stdout",
     "output_type": "stream",
     "text": [
      "10\n"
     ]
    }
   ],
   "source": [
    "a = 10\n",
    "print(a)"
   ]
  },
  {
   "cell_type": "code",
   "execution_count": 35,
   "metadata": {},
   "outputs": [],
   "source": [
    "import life as hitchhikersGuide"
   ]
  },
  {
   "cell_type": "code",
   "execution_count": 36,
   "metadata": {},
   "outputs": [
    {
     "data": {
      "text/plain": [
       "module"
      ]
     },
     "execution_count": 36,
     "metadata": {},
     "output_type": "execute_result"
    }
   ],
   "source": [
    "type(hitchhikersGuide)"
   ]
  },
  {
   "cell_type": "code",
   "execution_count": 37,
   "metadata": {},
   "outputs": [
    {
     "data": {
      "text/plain": [
       "42"
      ]
     },
     "execution_count": 37,
     "metadata": {},
     "output_type": "execute_result"
    }
   ],
   "source": [
    "hitchhikersGuide.theAnswer"
   ]
  },
  {
   "cell_type": "code",
   "execution_count": 38,
   "metadata": {},
   "outputs": [],
   "source": [
    "import math"
   ]
  },
  {
   "cell_type": "code",
   "execution_count": 39,
   "metadata": {},
   "outputs": [
    {
     "data": {
      "text/plain": [
       "3.141592653589793"
      ]
     },
     "execution_count": 39,
     "metadata": {},
     "output_type": "execute_result"
    }
   ],
   "source": [
    "math.pi"
   ]
  },
  {
   "cell_type": "code",
   "execution_count": 40,
   "metadata": {},
   "outputs": [],
   "source": [
    "from life import theAnswer"
   ]
  },
  {
   "cell_type": "code",
   "execution_count": 41,
   "metadata": {},
   "outputs": [],
   "source": [
    "myFavouriteNumber  = theAnswer"
   ]
  },
  {
   "cell_type": "code",
   "execution_count": 42,
   "metadata": {},
   "outputs": [
    {
     "name": "stdout",
     "output_type": "stream",
     "text": [
      "42\n"
     ]
    }
   ],
   "source": [
    "print(myFavouriteNumber)"
   ]
  },
  {
   "cell_type": "code",
   "execution_count": 43,
   "metadata": {},
   "outputs": [],
   "source": [
    "theAnswer = theAnswer+1"
   ]
  },
  {
   "cell_type": "code",
   "execution_count": 44,
   "metadata": {},
   "outputs": [
    {
     "name": "stdout",
     "output_type": "stream",
     "text": [
      "43\n"
     ]
    }
   ],
   "source": [
    "print(theAnswer)"
   ]
  },
  {
   "cell_type": "code",
   "execution_count": 45,
   "metadata": {},
   "outputs": [],
   "source": [
    "import matplotlib.pyplot as plt\n",
    "from sklearn.linear_model import LinearRegression"
   ]
  },
  {
   "cell_type": "code",
   "execution_count": 46,
   "metadata": {},
   "outputs": [],
   "source": [
    "def get_Milk():\n",
    "    print('Open Door')\n",
    "    print('Walk to the store')\n",
    "    print('Buy milk on the ground floor')\n",
    "    print('return with milk galore')"
   ]
  },
  {
   "cell_type": "code",
   "execution_count": 47,
   "metadata": {},
   "outputs": [
    {
     "name": "stdout",
     "output_type": "stream",
     "text": [
      "Open Door\n",
      "Walk to the store\n",
      "Buy milk on the ground floor\n",
      "return with milk galore\n"
     ]
    }
   ],
   "source": [
    "get_Milk()"
   ]
  },
  {
   "cell_type": "code",
   "execution_count": 48,
   "metadata": {},
   "outputs": [],
   "source": [
    "def fill_the_fridge(amount):\n",
    "    print('Open Door')\n",
    "    print('Walk to the store')\n",
    "    print('Buy ' + amount + ' milk on the ground floor')\n",
    "    print('return with milk galore')"
   ]
  },
  {
   "cell_type": "code",
   "execution_count": 49,
   "metadata": {},
   "outputs": [
    {
     "name": "stdout",
     "output_type": "stream",
     "text": [
      "Open Door\n",
      "Walk to the store\n",
      "Buy five milk on the ground floor\n",
      "return with milk galore\n"
     ]
    }
   ],
   "source": [
    "fill_the_fridge('five')"
   ]
  },
  {
   "cell_type": "code",
   "execution_count": 50,
   "metadata": {},
   "outputs": [
    {
     "name": "stdout",
     "output_type": "stream",
     "text": [
      "Open Door\n",
      "Walk to the store\n",
      "Buy one Thousand milk on the ground floor\n",
      "return with milk galore\n"
     ]
    }
   ],
   "source": [
    "fill_the_fridge('one Thousand')"
   ]
  },
  {
   "cell_type": "code",
   "execution_count": 51,
   "metadata": {},
   "outputs": [],
   "source": [
    "def milk_mission(amount,destination):\n",
    "    print('Open Door')\n",
    "    print('Walk to the store ' + destination)\n",
    "    print('Buy ' + amount + ' milk on the ground floor')\n",
    "    print('return with milk galore')"
   ]
  },
  {
   "cell_type": "code",
   "execution_count": 52,
   "metadata": {},
   "outputs": [
    {
     "name": "stdout",
     "output_type": "stream",
     "text": [
      "Open Door\n",
      "Walk to the store department Store\n",
      "Buy twenty milk on the ground floor\n",
      "return with milk galore\n"
     ]
    }
   ],
   "source": [
    "milk_mission('twenty', 'department Store')"
   ]
  },
  {
   "cell_type": "code",
   "execution_count": 53,
   "metadata": {},
   "outputs": [
    {
     "name": "stdout",
     "output_type": "stream",
     "text": [
      "Open Door\n"
     ]
    },
    {
     "ename": "TypeError",
     "evalue": "can only concatenate str (not \"int\") to str",
     "output_type": "error",
     "traceback": [
      "\u001b[1;31m---------------------------------------------------------------------------\u001b[0m",
      "\u001b[1;31mTypeError\u001b[0m                                 Traceback (most recent call last)",
      "\u001b[1;32m<ipython-input-53-552ca098a52f>\u001b[0m in \u001b[0;36m<module>\u001b[1;34m\u001b[0m\n\u001b[1;32m----> 1\u001b[1;33m \u001b[0mmilk_mission\u001b[0m\u001b[1;33m(\u001b[0m\u001b[1;36m10\u001b[0m\u001b[1;33m,\u001b[0m\u001b[1;36m20\u001b[0m\u001b[1;33m)\u001b[0m\u001b[1;33m\u001b[0m\u001b[1;33m\u001b[0m\u001b[0m\n\u001b[0m",
      "\u001b[1;32m<ipython-input-51-d67efb9d9804>\u001b[0m in \u001b[0;36mmilk_mission\u001b[1;34m(amount, destination)\u001b[0m\n\u001b[0;32m      1\u001b[0m \u001b[1;32mdef\u001b[0m \u001b[0mmilk_mission\u001b[0m\u001b[1;33m(\u001b[0m\u001b[0mamount\u001b[0m\u001b[1;33m,\u001b[0m\u001b[0mdestination\u001b[0m\u001b[1;33m)\u001b[0m\u001b[1;33m:\u001b[0m\u001b[1;33m\u001b[0m\u001b[1;33m\u001b[0m\u001b[0m\n\u001b[0;32m      2\u001b[0m     \u001b[0mprint\u001b[0m\u001b[1;33m(\u001b[0m\u001b[1;34m'Open Door'\u001b[0m\u001b[1;33m)\u001b[0m\u001b[1;33m\u001b[0m\u001b[1;33m\u001b[0m\u001b[0m\n\u001b[1;32m----> 3\u001b[1;33m     \u001b[0mprint\u001b[0m\u001b[1;33m(\u001b[0m\u001b[1;34m'Walk to the store '\u001b[0m \u001b[1;33m+\u001b[0m \u001b[0mdestination\u001b[0m\u001b[1;33m)\u001b[0m\u001b[1;33m\u001b[0m\u001b[1;33m\u001b[0m\u001b[0m\n\u001b[0m\u001b[0;32m      4\u001b[0m     \u001b[0mprint\u001b[0m\u001b[1;33m(\u001b[0m\u001b[1;34m'Buy '\u001b[0m \u001b[1;33m+\u001b[0m \u001b[0mamount\u001b[0m \u001b[1;33m+\u001b[0m \u001b[1;34m' milk on the ground floor'\u001b[0m\u001b[1;33m)\u001b[0m\u001b[1;33m\u001b[0m\u001b[1;33m\u001b[0m\u001b[0m\n\u001b[0;32m      5\u001b[0m     \u001b[0mprint\u001b[0m\u001b[1;33m(\u001b[0m\u001b[1;34m'return with milk galore'\u001b[0m\u001b[1;33m)\u001b[0m\u001b[1;33m\u001b[0m\u001b[1;33m\u001b[0m\u001b[0m\n",
      "\u001b[1;31mTypeError\u001b[0m: can only concatenate str (not \"int\") to str"
     ]
    }
   ],
   "source": [
    "milk_mission(10,20)"
   ]
  },
  {
   "cell_type": "code",
   "execution_count": null,
   "metadata": {},
   "outputs": [],
   "source": [
    "milk_mission(destination = 'twenty', amount = 'department Store')"
   ]
  },
  {
   "cell_type": "code",
   "execution_count": null,
   "metadata": {},
   "outputs": [],
   "source": [
    "def times(num1, num2):\n",
    "#     result = num1 * num2\n",
    "    return num1 * num2"
   ]
  },
  {
   "cell_type": "code",
   "execution_count": null,
   "metadata": {},
   "outputs": [],
   "source": [
    "test = times(3.14,5.09)\n",
    "print(test)"
   ]
  },
  {
   "cell_type": "code",
   "execution_count": null,
   "metadata": {},
   "outputs": [],
   "source": [
    "times('NI', 4)"
   ]
  },
  {
   "cell_type": "code",
   "execution_count": null,
   "metadata": {},
   "outputs": [],
   "source": [
    "import this"
   ]
  },
  {
   "cell_type": "code",
   "execution_count": null,
   "metadata": {},
   "outputs": [],
   "source": [
    "hitchhikersGuide.quote_marvin()"
   ]
  },
  {
   "cell_type": "code",
   "execution_count": null,
   "metadata": {},
   "outputs": [],
   "source": [
    "myAge = 'Two Hundred'\n",
    "type(myAge)"
   ]
  },
  {
   "cell_type": "code",
   "execution_count": null,
   "metadata": {},
   "outputs": [],
   "source": [
    "myAge = 20.53\n",
    "type(myAge)"
   ]
  },
  {
   "cell_type": "code",
   "execution_count": null,
   "metadata": {},
   "outputs": [],
   "source": [
    "result = hitchhikersGuide.square_root(63.14)\n",
    "print(result)"
   ]
  },
  {
   "cell_type": "code",
   "execution_count": 55,
   "metadata": {},
   "outputs": [],
   "source": [
    "time = data['Time_Delay_in_Minutes']\n",
    "LSD = data['LSD_ppm']\n",
    "score = data['Avg_Math_Test_Score']"
   ]
  },
  {
   "cell_type": "code",
   "execution_count": 74,
   "metadata": {},
   "outputs": [
    {
     "data": {
      "image/png": "[encoded data removed]",
      "text/plain": [
       "<Figure size 432x288 with 1 Axes>"
      ]
     },
     "metadata": {
      "needs_background": "light"
     },
     "output_type": "display_data"
    }
   ],
   "source": [
    "%matplotlib inline\n",
    "\n",
    "plt.title(\"Tissue concentration of LSD over time\", fontsize=17)\n",
    "plt.xlabel('Time in Minute', fontsize = 14)\n",
    "plt.ylabel('Tissue LSD ppm', fontsize = 14)\n",
    "plt.text(x=0,y=-0.5, s='Wagner et al. (1968)', fontsize=12)\n",
    "plt.xticks(fontsize = 14)\n",
    "plt.yticks(fontsize = 14)\n",
    " \n",
    "plt.ylim = (1,8)\n",
    "plt.xlim = (0,500)\n",
    "\n",
    "# plt.style.use('dark_background')\n",
    "# plt.style.use('ggplot')\n",
    "plt.style.use('classic')\n",
    "\n",
    "plt.plot(time, LSD,color='r', lineWidth=3)\n",
    "plt.show()"
   ]
  },
  {
   "cell_type": "code",
   "execution_count": null,
   "metadata": {},
   "outputs": [],
   "source": []
  },
  {
   "cell_type": "code",
   "execution_count": null,
   "metadata": {},
   "outputs": [],
   "source": []
  }
 ],
 "metadata": {
  "kernelspec": {
   "display_name": "Python 3",
   "language": "python",
   "name": "python3"
  },
  "language_info": {
   "codemirror_mode": {
    "name": "ipython",
    "version": 3
   },
   "file_extension": ".py",
   "mimetype": "text/x-python",
   "name": "python",
   "nbconvert_exporter": "python",
   "pygments_lexer": "ipython3",
   "version": "3.8.3"
  }
 },
 "nbformat": 4,
 "nbformat_minor": 4
}
